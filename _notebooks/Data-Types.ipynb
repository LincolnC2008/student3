{
 "cells": [
  {
   "cell_type": "code",
   "execution_count": null,
   "metadata": {},
   "outputs": [],
   "source": []
  },
  {
   "cell_type": "code",
   "execution_count": 1,
   "metadata": {},
   "outputs": [
    {
     "ename": "SyntaxError",
     "evalue": "invalid syntax (1300252854.py, line 1)",
     "output_type": "error",
     "traceback": [
      "\u001b[0;36m  File \u001b[0;32m\"/tmp/ipykernel_13698/1300252854.py\"\u001b[0;36m, line \u001b[0;32m1\u001b[0m\n\u001b[0;31m    // Creating an object representing myself\u001b[0m\n\u001b[0m    ^\u001b[0m\n\u001b[0;31mSyntaxError\u001b[0m\u001b[0;31m:\u001b[0m invalid syntax\n"
     ]
    }
   ],
   "source": [
    "// Creating an object representing myself\n",
    "const person = {\n",
    "    name: \"John Doe\",\n",
    "    age: 25,\n",
    "    currentClasses: [\"Mathematics\", \"Computer Science\"],\n",
    "    interests: [\"Coding\", \"Reading\", \"Hiking\"],\n",
    "    favoriteFoods: [\"Pizza\", \"Sushi\"],\n",
    "    hometown: \"New York\",\n",
    "    siblings: 2,\n",
    "    address: {\n",
    "        street: \"123 Main St\",\n",
    "        city: \"New York\",\n",
    "        state: \"NY\",\n",
    "        postalCode: \"10001\"\n",
    "    },\n",
    "    education: {\n",
    "        degree: \"Bachelor of Science\",\n",
    "        major: \"Computer Science\",\n",
    "        university: \"XYZ University\"\n",
    "    },\n",
    "    projects: [\n",
    "        { title: \"Web App\", technologies: [\"HTML\", \"CSS\", \"JavaScript\"] },\n",
    "        { title: \"Data Analysis\", technologies: [\"Python\", \"Pandas\", \"Matplotlib\"] }\n",
    "    ]\n",
    "};\n",
    "\n",
    "// Printing the entire object\n",
    "console.log(\"Original Object:\");\n",
    "console.log(person);\n",
    "\n",
    "// Manipulating arrays within the object\n",
    "person.currentClasses.push(\"Physics\", \"Art History\");\n",
    "person.interests.splice(1, 1, \"Cooking\", \"Photography\");\n",
    "\n",
    "// Printing the object after manipulation\n",
    "console.log(\"\\nObject After Manipulation:\");\n",
    "console.log(person);\n",
    "\n",
    "// Performing mathematical operations\n",
    "person.age += 1;\n",
    "person.siblings *= 2;\n",
    "person.favoriteFoods.push(\"Ice Cream\");\n",
    "\n",
    "console.log(\"\\nObject After Mathematical Operations:\");\n",
    "console.log(person);\n",
    "\n",
    "// Using typeof to determine field types\n",
    "console.log(`\\nField Types:`);\n",
    "console.log(`typeof name: ${typeof person.name}`);\n",
    "console.log(`typeof age: ${typeof person.age}`);\n",
    "console.log(`typeof currentClasses: ${typeof person.currentClasses}`);\n",
    "console.log(`typeof address: ${typeof person.address}`);\n"
   ]
  }
 ],
 "metadata": {
  "kernelspec": {
   "display_name": "Python 3",
   "language": "python",
   "name": "python3"
  },
  "language_info": {
   "codemirror_mode": {
    "name": "ipython",
    "version": 3
   },
   "file_extension": ".py",
   "mimetype": "text/x-python",
   "name": "python",
   "nbconvert_exporter": "python",
   "pygments_lexer": "ipython3",
   "version": "3.10.12"
  },
  "orig_nbformat": 4
 },
 "nbformat": 4,
 "nbformat_minor": 2
}
