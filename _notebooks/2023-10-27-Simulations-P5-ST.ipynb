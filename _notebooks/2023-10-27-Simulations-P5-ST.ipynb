{
 "cells": [
  {
   "cell_type": "markdown",
   "metadata": {},
   "source": [
    "---\n",
    "toc: true\n",
    "comments: true\n",
    "layout: post\n",
    "title: Simulations - Student Teach\n",
    "description: Student Lesson\n",
    "type: hacks\n",
    "courses: { compsci: {week: 10} }\n",
    "---"
   ]
  },
  {
   "cell_type": "markdown",
   "metadata": {},
   "source": [
    "## Simulations \n"
   ]
  },
  {
   "cell_type": "markdown",
   "metadata": {},
   "source": [
    "> A simulation is the use of a computer software to represent the dynamic responses of one system by the behaviour of another system modeled after it. A simulation uses a mathematical descriptions, or models, of a real system in the form of a computer program."
   ]
  },
  {
   "cell_type": "markdown",
   "metadata": {},
   "source": [
    "![simulation](https://www.simscale.com/wp-content/uploads/2022/11/dron-quadcopter-simulation.png)"
   ]
  },
  {
   "cell_type": "markdown",
   "metadata": {},
   "source": [
    "## College Board Essential Knowledge"
   ]
  },
  {
   "cell_type": "markdown",
   "metadata": {},
   "source": [
    "> Simulation are absractions of more complex objects or phenomena for a specific purpose \n",
    "\n",
    "- Mimic Real World Events\n",
    "- Allows investigation of phenomenons without contraints of the Real World\n",
    "- Helps you draw accurate inferences\n",
    "\n",
    "> Simulations utilize varying sets of values to reflect the changings states of a phenomenon\n",
    "\n",
    "- simulations can simplfly things for functionality\n",
    "- Simulations can contain bias from real world elements, that were chosen to be included or excluded\n",
    "\n",
    "> Simulations work best when the real world experemnts are too impractical or time consuming. For example, simulating how different cars behave when they crash, would be much better than crashng actual cars in the real world, which would be expensive and dangerous.\n",
    "\n",
    "<a href=\"https://ibb.co/f4jKcBY\"><img src=\"https://i.ibb.co/NZck4Q6/simulations-vs-experiments.png\" alt=\"simulations-vs-experiments\" border=\"0\"></a>\n"
   ]
  },
  {
   "cell_type": "markdown",
   "metadata": {},
   "source": [
    "## Rolling the Dice"
   ]
  },
  {
   "cell_type": "markdown",
   "metadata": {},
   "source": [
    "<a href=\"https://ibb.co/PGBhfPD\"><img src=\"https://i.ibb.co/XxmsvKY/craps-rolling-seven-7.jpg\" alt=\"craps-rolling-seven-7\" border=\"0\"></a>\n",
    "\n",
    "> Simulating something like a dice roll in real life would require accounting for things like: weight, flaws in design, thrust, and gravity.\n",
    "- KEEP IT SIMPLE! just use a random-number generator! Ignore minor causes of variablility"
   ]
  },
  {
   "cell_type": "markdown",
   "metadata": {},
   "source": [
    "## Random"
   ]
  },
  {
   "cell_type": "markdown",
   "metadata": {},
   "source": [
    "- \"Random\" is a built-in python function that allow the user to draw a random value from a set range.\n",
    "- A Random Number Generator (RNG) is a common simulation that selects a random value from an array.\n",
    "- The following code cell utilizes \"random\" to select a number from 1 to 100."
   ]
  },
  {
   "cell_type": "code",
   "execution_count": null,
   "metadata": {},
   "outputs": [],
   "source": [
    "#imports random module so we can use it in our code\n",
    "import random\n",
    "\n",
    "#sets variable random_number as a random number between 1 and 100\n",
    "random_number = random.randint(1, 100)\n",
    "\n",
    "#Printing out your random Number\n",
    "print(random_number)"
   ]
  },
  {
   "cell_type": "markdown",
   "metadata": {},
   "source": [
    "## More complex usage of \"random\"; Coin Toss Simulation"
   ]
  },
  {
   "cell_type": "code",
   "execution_count": null,
   "metadata": {},
   "outputs": [],
   "source": [
    "import random\n",
    "def flip_coin():\n",
    "    return random.choice([\"Heads\", \"Tails\"])\n",
    "def coin_flip_simulation(num_flips):\n",
    "    heads_count = 0\n",
    "    tails_count = 0\n",
    "    for _ in range(num_flips):\n",
    "        result = flip_coin()\n",
    "        if result == \"Heads\":\n",
    "            heads_count += 1\n",
    "        else:\n",
    "            tails_count += 1\n",
    "    return heads_count, tails_count\n",
    "if __name__ == \"__main__\":\n",
    "    num_flips = 1000  #This is the number of coin flips you want to simulate\n",
    "    heads, tails = coin_flip_simulation(num_flips)\n",
    "    print(\"Number of Heads: \"+ str(heads))\n",
    "    print(\"Number of Tails: \" + str(tails))\n",
    "    print(\"Heads Probability: \"+ str({heads / num_flips}))\n",
    "    print(\"Tails Probability: \"+ str({tails / num_flips}))"
   ]
  },
  {
   "cell_type": "markdown",
   "metadata": {},
   "source": [
    "## Popcorn Hack #1"
   ]
  },
  {
   "cell_type": "markdown",
   "metadata": {},
   "source": [
    "Utilize \"random\" to create a basic simulation of a rolling TWO dice. Print the sum of both dice rolls. Remember to practice good syntax when naming your variables. "
   ]
  },
  {
   "cell_type": "code",
   "execution_count": 6,
   "metadata": {},
   "outputs": [
    {
     "name": "stdout",
     "output_type": "stream",
     "text": [
      "The first die rolled: 5\n",
      "The second die rolled: 1\n",
      "The total sum is: 6\n"
     ]
    }
   ],
   "source": [
    "import random\n",
    "\n",
    "#Code, Code, Code\n",
    "\n",
    "# Simulate rolling two dice\n",
    "dice1 = random.randint(1, 6)  # Roll for the first die (random integer between 1 and 6)\n",
    "dice2 = random.randint(1, 6)  # Roll for the second die (random integer between 1 and 6)\n",
    "\n",
    "# Calculate the sum\n",
    "total = dice1 + dice2\n",
    "\n",
    "# Print the results\n",
    "print(f\"The first die rolled: {dice1}\")\n",
    "print(f\"The second die rolled: {dice2}\")\n",
    "print(f\"The total sum is: {total}\")"
   ]
  },
  {
   "cell_type": "markdown",
   "metadata": {},
   "source": [
    "## Algorithms\n",
    ">Simulations often utilize algorithms and equations to perform tasks because simulations don't always have the same output\n",
    "- the output of a simulation depends on the input\n",
    "\n",
    ">An algorithm is a finite sequence of instructions used to solve problems or perform computations. \n",
    "- commonly used alongside functions\n"
   ]
  },
  {
   "cell_type": "markdown",
   "metadata": {},
   "source": [
    "## Example Algorithm in a function"
   ]
  },
  {
   "cell_type": "code",
   "execution_count": 42,
   "metadata": {},
   "outputs": [
    {
     "data": {
      "text/plain": [
       "7"
      ]
     },
     "execution_count": 42,
     "metadata": {},
     "output_type": "execute_result"
    }
   ],
   "source": [
    "#Defining Function\n",
    "def algorithm(input):\n",
    "    \n",
    "    #Manipulating input and preparing it for the output.  \n",
    "    output = input+2\n",
    "    \n",
    "    #Return the output\n",
    "    return output\n",
    "\n",
    "#Call the Function to start the algorithm\n",
    "algorithm(5)\n",
    "    "
   ]
  },
  {
   "cell_type": "markdown",
   "metadata": {},
   "source": [
    "## Mathematics\n",
    "- Math can also prove to be very useful in certain types of situations.\n",
    "- Commonly used along with Algorithms when simulating various things\n",
    "\n",
    "![math](https://pythontutorialhome.files.wordpress.com/2019/05/image-2.png)\n"
   ]
  },
  {
   "cell_type": "markdown",
   "metadata": {},
   "source": [
    "## Popcorn Hack #2"
   ]
  },
  {
   "cell_type": "markdown",
   "metadata": {},
   "source": [
    "Simulate how long an object will fall for using an algorithm, with user-inputed variables for height dropped. Use the following formula as a reference.\n",
    "\n",
    "![gravity ](https://hepweb.ucsd.edu/ph110b/110b_notes/img272.png)\n",
    "\n",
    "- t = time (output)\n",
    "- h = height dropped from (input)\n",
    "- g = constant (given)"
   ]
  },
  {
   "cell_type": "code",
   "execution_count": 10,
   "metadata": {},
   "outputs": [
    {
     "name": "stdout",
     "output_type": "stream",
     "text": [
      "The object will take approximately 3.67 seconds to fall.\n"
     ]
    }
   ],
   "source": [
    "# Constant, Acceleration due to gravity (m/s^2)\n",
    "def simulation(height_dropped):\n",
    "    # Calculate time using the formula\n",
    "    time_to_fall = math.sqrt((2 * height_dropped) / g)\n",
    "    return time_to_fall\n",
    "\n",
    "import math\n",
    "\n",
    "# Constants\n",
    "g = 9.81  # Acceleration due to gravity in m/s^2\n",
    "\n",
    "# Get user input for height dropped\n",
    "height_dropped = float(input(\"Enter the height dropped (in meters): \"))\n",
    "\n",
    "# Call the simulation function\n",
    "time_to_fall = simulation(height_dropped)\n",
    "\n",
    "# Print the result\n",
    "print(f\"The object will take approximately {time_to_fall:.2f} seconds to fall.\")"
   ]
  },
  {
   "cell_type": "markdown",
   "metadata": {},
   "source": [
    "# Using Loops in Simulations"
   ]
  },
  {
   "cell_type": "markdown",
   "metadata": {},
   "source": [
    "> For loops can also be used in simulations\n",
    "- They can simulate events that repeat but don't always have the same output\n"
   ]
  },
  {
   "cell_type": "code",
   "execution_count": 44,
   "metadata": {},
   "outputs": [
    {
     "name": "stdout",
     "output_type": "stream",
     "text": [
      "This is run number: 0\n",
      "This is run number: 1\n",
      "This is run number: 2\n",
      "This is run number: 3\n"
     ]
    }
   ],
   "source": [
    "# Example For Loop\n",
    "\n",
    "#Creating For Loop to repeat 4 times\n",
    "for i in range(4):\n",
    "    \n",
    "    #Action that happens inside for loop\n",
    "    print(\"This is run number: \" + str(i))\n",
    "    "
   ]
  },
  {
   "cell_type": "markdown",
   "metadata": {},
   "source": [
    "## Popcorn Hack #3"
   ]
  },
  {
   "cell_type": "markdown",
   "metadata": {},
   "source": [
    "You are gambling addict (sigma). \n",
    "\n",
    "Each session you roll 2 dice.\n",
    "\n",
    "If your dice roll is greater than or equal to 9 you win the session.\n",
    "\n",
    "If you win over 5 sessions, you win the jackpot.\n",
    "\n",
    "Simulate your odds to predict if you will hit the jackpot (how many rounds did you win?) using a for loop and random.\n"
   ]
  },
  {
   "cell_type": "code",
   "execution_count": 7,
   "metadata": {},
   "outputs": [
    {
     "name": "stdout",
     "output_type": "stream",
     "text": [
      "Out of 10000 sessions, you won 2853 sessions.\n",
      "Congratulations! You won the jackpot!\n"
     ]
    }
   ],
   "source": [
    "# Code Code Code\n",
    "import random\n",
    "\n",
    "def roll_dice():\n",
    "    return random.randint(1, 6) + random.randint(1, 6)\n",
    "\n",
    "def play_session():\n",
    "    return roll_dice() >= 9\n",
    "\n",
    "def simulate_gambling_sessions(num_sessions):\n",
    "    sessions_won = 0\n",
    "    for _ in range(num_sessions):\n",
    "        if play_session():\n",
    "            sessions_won += 1\n",
    "    return sessions_won\n",
    "\n",
    "num_sessions = 10000  \n",
    "sessions_won = simulate_gambling_sessions(num_sessions)\n",
    "\n",
    "jackpot_won = sessions_won >= 5\n",
    "\n",
    "print(f\"Out of {num_sessions} sessions, you won {sessions_won} sessions.\")\n",
    "if jackpot_won:\n",
    "    print(\"Congratulations! You won the jackpot!\")\n",
    "else:\n",
    "    print(\"Better luck next time.\")"
   ]
  },
  {
   "cell_type": "markdown",
   "metadata": {},
   "source": [
    "## BONUS POPCORN HACK\n",
    "> Welcome to Flight Simulator! Your goal is to complete a Python program that simulates a flight We've set up some initial values for altitude, speed, and fuel. Your task is to update these values to make the flight more realistic.\n",
    "\n",
    "- Your mission:\n",
    "\n",
    "1. Use random changes to simulate altitude, speed, and fuel changes.\n",
    "2. Keep the flight going until it reaches 10,000 feet or runs out of fuel.\n",
    "3. Make sure altitude, speed, and fuel remain realistic."
   ]
  },
  {
   "cell_type": "code",
   "execution_count": 8,
   "metadata": {},
   "outputs": [
    {
     "name": "stdout",
     "output_type": "stream",
     "text": [
      "Welcome to Flight Simulator!\n",
      "Altitude: 0 feet | Speed: 0 knots | Fuel: 98.85328275020068 gallons\n",
      "Altitude: 30 feet | Speed: 1 knots | Fuel: 97.87757631808171 gallons\n",
      "Altitude: 50 feet | Speed: 0 knots | Fuel: 96.65121119799089 gallons\n",
      "Altitude: 4 feet | Speed: 4 knots | Fuel: 96.02992173544808 gallons\n",
      "Altitude: 0 feet | Speed: 0 knots | Fuel: 94.68753828305199 gallons\n",
      "Altitude: 106 feet | Speed: 0 knots | Fuel: 93.21063443515062 gallons\n",
      "Altitude: 114 feet | Speed: 1 knots | Fuel: 92.30234199171666 gallons\n",
      "Altitude: 296 feet | Speed: 7 knots | Fuel: 91.09928205670732 gallons\n",
      "Altitude: 334 feet | Speed: 0 knots | Fuel: 90.39963609217456 gallons\n",
      "Altitude: 534 feet | Speed: 9 knots | Fuel: 89.80858598920555 gallons\n",
      "Altitude: 696 feet | Speed: 16 knots | Fuel: 89.0559573145506 gallons\n",
      "Altitude: 787 feet | Speed: 7 knots | Fuel: 88.21214957572677 gallons\n",
      "Altitude: 856 feet | Speed: 9 knots | Fuel: 87.30146292770594 gallons\n",
      "Altitude: 775 feet | Speed: 0 knots | Fuel: 86.5159125280123 gallons\n",
      "Altitude: 770 feet | Speed: 0 knots | Fuel: 85.89339863521673 gallons\n",
      "Altitude: 834 feet | Speed: 0 knots | Fuel: 84.41978406206209 gallons\n",
      "Altitude: 649 feet | Speed: 0 knots | Fuel: 83.5816875606464 gallons\n",
      "Altitude: 469 feet | Speed: 0 knots | Fuel: 82.72516023001835 gallons\n",
      "Altitude: 378 feet | Speed: 4 knots | Fuel: 81.92838497713866 gallons\n",
      "Altitude: 178 feet | Speed: 0 knots | Fuel: 80.7060721272649 gallons\n",
      "Altitude: 155 feet | Speed: 10 knots | Fuel: 79.51647013756342 gallons\n",
      "Altitude: 17 feet | Speed: 10 knots | Fuel: 78.56183727886696 gallons\n",
      "Altitude: 0 feet | Speed: 18 knots | Fuel: 77.95980640710663 gallons\n",
      "Altitude: 9 feet | Speed: 19 knots | Fuel: 77.27361946081302 gallons\n",
      "Altitude: 0 feet | Speed: 27 knots | Fuel: 76.63434505603226 gallons\n",
      "Altitude: 0 feet | Speed: 18 knots | Fuel: 75.78280410500167 gallons\n",
      "Altitude: 157 feet | Speed: 14 knots | Fuel: 75.19264308033316 gallons\n",
      "Altitude: 357 feet | Speed: 5 knots | Fuel: 74.62850473319557 gallons\n",
      "Altitude: 242 feet | Speed: 1 knots | Fuel: 73.3269159583344 gallons\n",
      "Altitude: 423 feet | Speed: 4 knots | Fuel: 72.48277574261623 gallons\n",
      "Altitude: 378 feet | Speed: 0 knots | Fuel: 71.16064600585172 gallons\n",
      "Altitude: 265 feet | Speed: 0 knots | Fuel: 70.56737556192185 gallons\n",
      "Altitude: 296 feet | Speed: 0 knots | Fuel: 69.93788384458902 gallons\n",
      "Altitude: 165 feet | Speed: 8 knots | Fuel: 69.33685076022712 gallons\n",
      "Altitude: 0 feet | Speed: 2 knots | Fuel: 68.19168632668689 gallons\n",
      "Altitude: 0 feet | Speed: 0 knots | Fuel: 66.90117062167417 gallons\n",
      "Altitude: 0 feet | Speed: 0 knots | Fuel: 65.95545161646457 gallons\n",
      "Altitude: 0 feet | Speed: 8 knots | Fuel: 64.48132410864235 gallons\n",
      "Altitude: 0 feet | Speed: 2 knots | Fuel: 63.90631756521353 gallons\n",
      "Altitude: 6 feet | Speed: 5 knots | Fuel: 62.51190603339091 gallons\n",
      "Altitude: 0 feet | Speed: 0 knots | Fuel: 61.578437405552066 gallons\n",
      "Altitude: 27 feet | Speed: 0 knots | Fuel: 60.48680198584934 gallons\n",
      "Altitude: 180 feet | Speed: 0 knots | Fuel: 59.39364571538403 gallons\n",
      "Altitude: 29 feet | Speed: 0 knots | Fuel: 58.37025471518569 gallons\n",
      "Altitude: 166 feet | Speed: 0 knots | Fuel: 57.36868303305093 gallons\n",
      "Altitude: 132 feet | Speed: 0 knots | Fuel: 56.10583130948052 gallons\n",
      "Altitude: 0 feet | Speed: 3 knots | Fuel: 55.47753888838829 gallons\n",
      "Altitude: 0 feet | Speed: 0 knots | Fuel: 54.2011802965237 gallons\n",
      "Altitude: 0 feet | Speed: 0 knots | Fuel: 53.62039584497496 gallons\n",
      "Altitude: 7 feet | Speed: 0 knots | Fuel: 52.73678041925521 gallons\n",
      "Altitude: 120 feet | Speed: 0 knots | Fuel: 51.844272443868675 gallons\n",
      "Altitude: 116 feet | Speed: 7 knots | Fuel: 50.48981721616708 gallons\n",
      "Altitude: 113 feet | Speed: 10 knots | Fuel: 49.68452275843518 gallons\n",
      "Altitude: 249 feet | Speed: 8 knots | Fuel: 48.77719031840482 gallons\n",
      "Altitude: 226 feet | Speed: 1 knots | Fuel: 47.6338828159658 gallons\n",
      "Altitude: 58 feet | Speed: 7 knots | Fuel: 47.09913455282978 gallons\n",
      "Altitude: 166 feet | Speed: 16 knots | Fuel: 46.00432038516698 gallons\n",
      "Altitude: 311 feet | Speed: 18 knots | Fuel: 45.1108046907908 gallons\n",
      "Altitude: 309 feet | Speed: 26 knots | Fuel: 43.791036746699305 gallons\n",
      "Altitude: 393 feet | Speed: 21 knots | Fuel: 42.64825988567455 gallons\n",
      "Altitude: 227 feet | Speed: 27 knots | Fuel: 41.59674700572637 gallons\n",
      "Altitude: 425 feet | Speed: 30 knots | Fuel: 40.79652259929643 gallons\n",
      "Altitude: 474 feet | Speed: 40 knots | Fuel: 39.33297261889358 gallons\n",
      "Altitude: 449 feet | Speed: 38 knots | Fuel: 38.69649678397903 gallons\n",
      "Altitude: 535 feet | Speed: 47 knots | Fuel: 38.0439815965306 gallons\n",
      "Altitude: 424 feet | Speed: 55 knots | Fuel: 36.75006468789065 gallons\n",
      "Altitude: 536 feet | Speed: 51 knots | Fuel: 35.73819936727327 gallons\n",
      "Altitude: 527 feet | Speed: 47 knots | Fuel: 34.91186868645469 gallons\n",
      "Altitude: 651 feet | Speed: 39 knots | Fuel: 34.38607356370389 gallons\n",
      "Altitude: 679 feet | Speed: 35 knots | Fuel: 33.598227765880445 gallons\n",
      "Altitude: 858 feet | Speed: 37 knots | Fuel: 33.04863206404531 gallons\n",
      "Altitude: 957 feet | Speed: 41 knots | Fuel: 32.13308636064833 gallons\n",
      "Altitude: 1057 feet | Speed: 46 knots | Fuel: 31.00832443749423 gallons\n",
      "Altitude: 972 feet | Speed: 40 knots | Fuel: 30.21218513449295 gallons\n",
      "Altitude: 1050 feet | Speed: 40 knots | Fuel: 28.92204852811848 gallons\n",
      "Altitude: 961 feet | Speed: 37 knots | Fuel: 27.538834851308195 gallons\n",
      "Altitude: 791 feet | Speed: 45 knots | Fuel: 26.637549981788865 gallons\n",
      "Altitude: 654 feet | Speed: 35 knots | Fuel: 25.49304686193495 gallons\n",
      "Altitude: 474 feet | Speed: 29 knots | Fuel: 24.29266190554094 gallons\n",
      "Altitude: 509 feet | Speed: 22 knots | Fuel: 23.241172822430574 gallons\n",
      "Altitude: 373 feet | Speed: 22 knots | Fuel: 21.945668518008752 gallons\n",
      "Altitude: 449 feet | Speed: 18 knots | Fuel: 20.500696227302928 gallons\n",
      "Altitude: 450 feet | Speed: 12 knots | Fuel: 19.912324181439256 gallons\n",
      "Altitude: 461 feet | Speed: 4 knots | Fuel: 18.866490307943405 gallons\n",
      "Altitude: 594 feet | Speed: 2 knots | Fuel: 18.083698072986127 gallons\n",
      "Altitude: 757 feet | Speed: 0 knots | Fuel: 16.744030100722572 gallons\n",
      "Altitude: 910 feet | Speed: 0 knots | Fuel: 16.16785256981265 gallons\n",
      "Altitude: 1093 feet | Speed: 0 knots | Fuel: 15.46725206524294 gallons\n",
      "Altitude: 1102 feet | Speed: 0 knots | Fuel: 14.902156753658726 gallons\n",
      "Altitude: 1081 feet | Speed: 1 knots | Fuel: 13.719000830558699 gallons\n",
      "Altitude: 1079 feet | Speed: 0 knots | Fuel: 12.549575179597328 gallons\n",
      "Altitude: 1102 feet | Speed: 7 knots | Fuel: 11.593702706477686 gallons\n",
      "Altitude: 908 feet | Speed: 5 knots | Fuel: 10.433928680319799 gallons\n",
      "Altitude: 888 feet | Speed: 0 knots | Fuel: 9.73869218133605 gallons\n",
      "Altitude: 910 feet | Speed: 5 knots | Fuel: 8.58377239577056 gallons\n",
      "Altitude: 880 feet | Speed: 0 knots | Fuel: 7.718388868608937 gallons\n",
      "Altitude: 834 feet | Speed: 0 knots | Fuel: 6.466906166686137 gallons\n",
      "Altitude: 636 feet | Speed: 5 knots | Fuel: 5.936912669197984 gallons\n",
      "Altitude: 549 feet | Speed: 0 knots | Fuel: 4.501461687349447 gallons\n",
      "Altitude: 483 feet | Speed: 0 knots | Fuel: 3.058035796623554 gallons\n",
      "Altitude: 494 feet | Speed: 9 knots | Fuel: 2.1732805057836173 gallons\n",
      "Altitude: 666 feet | Speed: 18 knots | Fuel: 1.418181282250869 gallons\n",
      "Altitude: 769 feet | Speed: 15 knots | Fuel: 0.49588162278984804 gallons\n",
      "Altitude: 787 feet | Speed: 17 knots | Fuel: 0 gallons\n",
      "Oh no! You've run out of fuel. The flight was not successful.\n"
     ]
    }
   ],
   "source": [
    "import random\n",
    "\n",
    "# Initial parameters\n",
    "altitude = 0\n",
    "speed = 0\n",
    "fuel = 100\n",
    "\n",
    "print(\"Welcome to Flight Simulator!\")\n",
    "\n",
    "while altitude < 10000 and fuel > 0:\n",
    "    altitude_change = random.randint(-200, 200)\n",
    "    speed_change = random.randint(-10, 10)\n",
    "    fuel_consumption = random.uniform(0.5, 1.5)\n",
    "\n",
    "    altitude += altitude_change\n",
    "    speed += speed_change\n",
    "    fuel -= fuel_consumption\n",
    "\n",
    "    altitude = max(altitude, 0)\n",
    "    speed = max(speed, 0)  \n",
    "    fuel = max(fuel, 0)\n",
    "\n",
    "    print(f\"Altitude: {altitude} feet | Speed: {speed} knots | Fuel: {fuel} gallons\")\n",
    "\n",
    "if altitude >= 10000:\n",
    "    print(\"Congratulations! You have reached 10,000 feet.\")\n",
    "else:\n",
    "    print(\"Oh no! You've run out of fuel. The flight was not successful.\")\n"
   ]
  },
  {
   "cell_type": "markdown",
   "metadata": {},
   "source": [
    "## QUIZ TIME"
   ]
  },
  {
   "cell_type": "markdown",
   "metadata": {},
   "source": [
    "- Quick true or false quiz, whoever answers this correctly(raise your hand) gets a piece of gum or a dinero. \n",
    "<hr>\n",
    "\n",
    "> T or F    \n",
    "- A simulation will always have the same result.\n",
    "> T or F    \n",
    "- A simulation investigates a phenomenom without real-world constraints of time, money, or safety.\n",
    "> T or F    \n",
    "- A simulation has results which are more accurate than an experiment,\n",
    "> T or F    \n",
    "- A simulation can model real-worl events that are not practical for experiments"
   ]
  },
  {
   "cell_type": "markdown",
   "metadata": {},
   "source": [
    "## HOMEWORK HACK #1 "
   ]
  },
  {
   "cell_type": "markdown",
   "metadata": {},
   "source": [
    "First finish Popcorn Hack #3. Expand the simulation to involve your own money.\n",
    "\n",
    "starting money: $100\n",
    "\n",
    "(Dice Roll <= 3) &rarr; lose $70\n",
    "\n",
    "( 6> Dice Roll >3) &rarr; lose $40\n",
    "\n",
    "( 9> Dice Roll >=6) &rarr; win $20\n",
    "\n",
    "( Dice Roll>= 9 + Session Win) &rarr; win $50\n",
    "\n",
    "Jackpot &rarr; win $100"
   ]
  },
  {
   "cell_type": "code",
   "execution_count": 11,
   "metadata": {},
   "outputs": [
    {
     "name": "stdout",
     "output_type": "stream",
     "text": [
      "Out of 10000 sessions, you won 0 sessions.\n",
      "Better luck next time.\n"
     ]
    }
   ],
   "source": [
    "# Code Code Code\n",
    "import random\n",
    "\n",
    "def roll_dice():\n",
    "    return random.randint(1, 12)\n",
    "\n",
    "def play_session(money):\n",
    "    dice_roll = roll_dice()\n",
    "\n",
    "    if dice_roll <= 3:\n",
    "        money -= 70\n",
    "    elif 3 < dice_roll <= 6:\n",
    "        money -= 40\n",
    "    elif 6 < dice_roll < 9:\n",
    "        money += 20\n",
    "    elif dice_roll >= (9 + money):\n",
    "        money += 50\n",
    "    elif dice_roll == 12:\n",
    "        money += 100\n",
    "\n",
    "    return money\n",
    "\n",
    "def simulate_gambling_sessions(num_sessions, starting_money):\n",
    "    sessions_won = 0\n",
    "    money = starting_money\n",
    "\n",
    "    for _ in range(num_sessions):\n",
    "        money = play_session(money)\n",
    "        if money > 100:\n",
    "            sessions_won += 1\n",
    "\n",
    "    return sessions_won\n",
    "\n",
    "starting_money = 100\n",
    "num_sessions = 10000\n",
    "sessions_won = simulate_gambling_sessions(num_sessions, starting_money)\n",
    "\n",
    "jackpot_won = sessions_won >= 5\n",
    "\n",
    "print(f\"Out of {num_sessions} sessions, you won {sessions_won} sessions.\")\n",
    "if jackpot_won:\n",
    "    print(\"Congratulations! You won the jackpot!\")\n",
    "else:\n",
    "    print(\"Better luck next time.\")"
   ]
  },
  {
   "cell_type": "markdown",
   "metadata": {},
   "source": [
    "## HOMEWORK HACK #2"
   ]
  },
  {
   "cell_type": "markdown",
   "metadata": {},
   "source": [
    "> Given initial parameters for a car simulation, including its initial speed, acceleration rate, deceleration rate, maximum speed, and initial distance, write a  program to simulate the car's journey and determine the final speed, distance covered, and time taken before it either covers 1000 meters or slows down to below 5 m/s?"
   ]
  },
  {
   "cell_type": "code",
   "execution_count": 1,
   "metadata": {},
   "outputs": [
    {
     "name": "stdout",
     "output_type": "stream",
     "text": [
      "Final speed: 0 m/s\n",
      "Distance covered: 0 meters\n",
      "Time taken: 0 seconds\n"
     ]
    }
   ],
   "source": [
    "# Initial parameters\n",
    "speed = 0  # Initial speed\n",
    "acceleration = 2  # Acceleration rate in m/s^2\n",
    "deceleration = 1  # Deceleration rate in m/s^2\n",
    "max_speed = 60  # Maximum speed in m/s\n",
    "distance = 0  # Initial distance\n",
    "time = 0  # Initial time\n",
    "\n",
    "#Code Code Code\n",
    "while distance < 1000 and speed >= 5:\n",
    "    if speed < max_speed:\n",
    "        speed += acceleration\n",
    "    else:\n",
    "        speed = max_speed\n",
    "    \n",
    "    distance += speed\n",
    "    time += 1\n",
    "\n",
    "    if distance >= 1000 or speed <= 5:\n",
    "        break\n",
    "\n",
    "    speed -= deceleration\n",
    "\n",
    "print(f\"Final speed: {speed} m/s\")\n",
    "print(f\"Distance covered: {distance} meters\")\n",
    "print(f\"Time taken: {time} seconds\")"
   ]
  }
 ],
 "metadata": {
  "kernelspec": {
   "display_name": "Python 3",
   "language": "python",
   "name": "python3"
  },
  "language_info": {
   "codemirror_mode": {
    "name": "ipython",
    "version": 3
   },
   "file_extension": ".py",
   "mimetype": "text/x-python",
   "name": "python",
   "nbconvert_exporter": "python",
   "pygments_lexer": "ipython3",
   "version": "3.10.12"
  },
  "orig_nbformat": 4
 },
 "nbformat": 4,
 "nbformat_minor": 2
}
