{
 "cells": [
  {
   "cell_type": "markdown",
   "metadata": {},
   "source": [
    "---\n",
    "toc: true\n",
    "comments: true\n",
    "layout: post\n",
    "title: MC\n",
    "description: false\n",
    "courses: {'compsci': {'week': 25}}\n",
    "type: hacks\n",
    "---"
   ]
  },
  {
   "cell_type": "markdown",
   "metadata": {},
   "source": [
    "![CB score](images/CB-2021.jpg)"
   ]
  },
  {
   "cell_type": "markdown",
   "metadata": {},
   "source": [
    "# Corrections:\n",
    "\n",
    "Q54: I chose A but it is wrong because I had to look at the dates and the times the truck entered and left the depot. B is correct because the data showed that when each time a truck enters or leaves the depot do not include info on what the deliveries are or the number of customers.\n",
    "\n",
    "Q55: A is incorrect because this code segment assigns the value of the last element of the list to the variable temp, then removes the last element of the list, then appends temp to the end of the list. The resulting list is the same as the original list. C is correct because this code segment assigns the value of the last element of the list to the variable temp, then removes the last element of the list, then inserts temp as the first element of the list.\n",
    "\n",
    "Q60: B is wrong because the application only sends notifications to compatible users who are nearby. Since not all people will be considered compatible, users are unlikely to be able to identify all other users in the area. C is correct because the application can be used to connect users with other nearby users, which may encourage users to exercise together. This may have the effect of improving user health.\n",
    "\n",
    "Q61: A is wrong because while some users may find it undesirable to carry their smartphones while running, this is not considered a privacy concern. B is correct because the application will inform a user whenever a nearby compatible user starts a run. This could allow users to determine the location of a stranger, which is considered a privacy concern.\n",
    "\n",
    "Q62: D is incorrect because any user with a basic account can receive targeted advertisements. If a user’s running route is located near a particular business, that information can be used to target an advertisement to the user. C is correct because users with a premium account do not receive advertisements."
   ]
  }
 ],
 "metadata": {
  "language_info": {
   "name": "python"
  }
 },
 "nbformat": 4,
 "nbformat_minor": 2
}
