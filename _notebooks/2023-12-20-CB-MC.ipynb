{
 "cells": [
  {
   "cell_type": "markdown",
   "metadata": {},
   "source": [
    "---\n",
    "toc: True\n",
    "comments: False\n",
    "layout: post\n",
    "title: CB MCQ\n",
    "description: Corrections and my Journey\n",
    "type: tangibles\n",
    "courses: {'compsci': {'week': 13}}\n",
    "---"
   ]
  },
  {
   "cell_type": "markdown",
   "metadata": {},
   "source": [
    "## Journey:\n",
    "Reviewing the Internet\n",
    "To initiate my study week efficiently, I revisited archived team teachings, extracting condensed summaries and vital discussions on the Internet's evolution. I scoured online resources, especially concise video explanations outlining the historical journey from ARPANET to the modern web. Additionally, I proactively engaged with the team, quickly seeking focused clarifications on technical aspects.\n",
    "\n",
    "Exploring Routing and Computing\n",
    "Transitioning swiftly to routing and computing, I engaged in brisk discussions with peers, leveraging collective knowledge to grasp core concepts. Fast-paced online video tutorials effectively visualized data packet transmission across networks. I actively sought quick Q&A sessions with the team, focusing on key algorithms and computational thinking for rapid understanding.\n",
    "\n",
    "Understanding the Internet's Dual Nature\n",
    "To swiftly grasp the Internet's dual nature, I engaged in expedited discussions with the creators, targeting concise insights into benefits and risks. I efficiently navigated through online documentaries and lectures, focusing on brief yet diverse perspectives on cybersecurity threats and privacy concerns.\n",
    "\n",
    "Investigating the Digital Divide\n",
    "Streamlining my exploration of the Digital Divide, I referred to concise team teachings and engaged in focused discussions with creators to understand disparities. I efficiently extracted insights from peers, facilitating targeted discussions on bridging efforts. Analyzing streamlined statistical data and engaging in quick peer conversations amplified my understanding of its impact.\n",
    "\n",
    "Analyzing Computing Bias\n",
    "In analyzing biases in computing, I prioritized succinct team teachings and engaging with creators for rapid comprehension. I optimized online resources such as TED talks and panel discussions for fast absorption of ethical challenges related to biases in digital systems. Time-efficient discussions with peers allowed diverse viewpoints, quickly enriching my understanding.\n",
    "\n",
    "Navigating Unsolved Problems and Crowdsourcing\n",
    "Navigating unsolvable computing problems efficiently involved focused revision of team teachings. Quick consultations with creators helped in grasping theoretical frameworks rapidly. Streamlined discussions with peers and expedited analysis of recorded seminar case studies provided practical insights into crowdsourcing applications.\n",
    "\n",
    "Recapitulating and Preparing for the Time Crunch\n",
    "Approaching the final phase, I adeptly condensed key points from shared team teachings and insights from creators. Leveraging quick discussions with peers and rapid-fire queries further solidified my understanding. I maximized time by focusing on targeted practice questions, enhancing my efficiency in handling the time-constrained multiple-choice exam."
   ]
  },
  {
   "cell_type": "markdown",
   "metadata": {},
   "source": [
    "## Quiz Corrections:\n",
    "Q4: A is wrong because the concept of undecidable problems pertains to the theoretical limits of algorithmic solvability, whereas an overflow error in a program arises due to the finite representation of numbers in a fixed number of bits. C is right because overflow errors happen when the result of a computation exceeds the maximum value that can be represented within the fixed number of bits allocated for storage. When adding integers, if the sum exceeds the maximum representable value for that data type, an overflow occurs, leading to unexpected results or errors in the program.\n",
    "\n",
    "Q11: I correctly calculated the binary number 11111111, 255, but I miss calculated 11110000, it is meant to be 240. therefore A is correct\n",
    "\n",
    "Q12: I did another binary miscalculation, 10000010 was meant to equal 130.\n",
    "\n",
    "Q22: For this spinner, there is a 1/8 chance of \"Lose a turn\", a 1/8 chance of \"Move 2 spaces\", and a 6/8 chance of \"Move 1 space\". The variable spin is set to a random value between 1 and 8. If spin is 1 (which occurs 1/8 of the time), the code segment prints \"Lose a turn\". If spin is 2 (which occurs 1/8 of the time), the code segment prints \"Move 2 spaces\". The remaining 6/8 of the time, the code segment prints \"Move 1 space\". Therefore D is correct\n",
    "\n",
    "Q23: C is worng because it would be equivalent to an algorithm that sets available to true whenever weekday is true or miles is at least 20. The algorithm in the flowchart requires both conditions to be true in order to set available to true. D is right because the flowchart sets available to true whenever weekday is true and miles is less than 20, and sets available to false otherwise. This code statement provides the same functionality.\n",
    "\n",
    "Q26:  Storing the dimensions (rows and columns) of the image is crucial metadata, aiding in image processing and display, making option C a likely choice. However, duplicating the entire image data as metadata (option D) would be redundant and inefficient, as the actual binary values already represent the image itself, making a duplicate unnecessary and wasteful in terms of storage.\n",
    "\n",
    "Q42: Option C is incorrect because it checks if the score is both less than or equal to the target minus 10 and less than or equal to the target plus 10 simultaneously, which isn't accurate for the given condition. Option D is correct because it checks if the score is greater than or equal to the target minus 10 and less than or equal to the target plus 10, ensuring that the score falls within the range of 10 points above or below the target.\n",
    "\n",
    "Q46: Option C is incorrect because it inaccurately implies that devices initially connect to the internet without an IP address and then obtain one after verification by a certificate authority, which is not how IP addressing typically works. Option A is correct as it accurately explains that when a new device connects to the internet, it is assigned an IP address to facilitate communication within the network, allowing devices to send and receive data packets across the internet.\n",
    "\n",
    "Q47: Option B is incorrect because the BinarySearch algorithm can handle duplicate values within the list. It doesn't rely on uniqueness for its functionality. Option C is correct as the BinarySearch algorithm requires the list to be in sorted order to work accurately. This algorithm uses the property of a sorted list to efficiently locate the target value.\n",
    "\n",
    "Q48: Option B doesn't exemplify a phishing attack because it describes an overload of messages causing email account issues, which isn't related to phishing. Option C is indicative of a phishing attack as it involves a deceptive email that tricks the user into revealing personal information, such as usernames and passwords, under the guise of offering technical help. Phishing attacks often use fake emails or websites to trick users into sharing sensitive information.\n",
    "\n",
    "Q50: D is right because option III is correct as it accesses only the first 10 elements of the list, regardless of the list's overall size. This limitation ensures a consistent and manageable execution time, irrespective of the large size of the list.\n",
    "\n",
    "Q57: Option B is incorrect because the primary purpose of TCP/IP protocols isn't specifically focused on ensuring private data is inaccessible to unauthorized devices, but rather they're more concerned with facilitating the routing and delivery of data across networks. Option C is accurate as TCP/IP protocols establish a common set of rules and standards that allow devices across the internet to communicate effectively by defining how data should be formatted, addressed, transmitted, routed, and received.\n",
    "\n",
    "Q59: \n",
    "Option D is incorrect because one of the advantages of open-source software is indeed its ability to be updated and maintained by a community of developers even if the original creators are no longer involved, preventing obsolescence. Option C is accurate as it correctly identifies a common advantage of open-source software—the availability of free or low-cost support provided by the original developers or the community.\n",
    "\n",
    "Q65: D is wrong because it stores the substring \"jack\" in animal. It then concatenates \"jack\" and \"a\", storing the result \"jacka\" in animal. Lastly, it concatenates the substring \"lope\" and \"jacka\", storing the result \"lopejacka\" in animal. C is right because it stores the substring \"jack\" in animal. It then concatenates \"jack\" and \"a\", storing the result \"jacka\" in animal. Lastly, it concatenates \"jacka\" and the substring \"lope\", storing the result \"jackalope\" in animal.\n",
    "\n",
    "Q66: B is wrong because in line 8, the variable count should increase by 1 when currentNum is a perfect number, so it should be incremented in the body of the IF statement. A is right because in line 5, the variable count should increase by 1 when currentNum is a perfect number, so it should only be incremented in the body of the IF statement.\n",
    "\n",
    "Q67: C is wrong because for this code segment, count is increased to 1 when \"oak\" is encountered as the last element of the list. The loop then terminates and the procedure returns the intended result 1.  B is right because for this code segment, count is increased to 1 the first time \"maple\" is encountered in the list. However, count is reset to 0 when the code segment moves to the next list element. This causes the procedure to return 0 instead of the intended result 1."
   ]
  }
 ],
 "metadata": {
  "language_info": {
   "name": "python"
  }
 },
 "nbformat": 4,
 "nbformat_minor": 2
}
