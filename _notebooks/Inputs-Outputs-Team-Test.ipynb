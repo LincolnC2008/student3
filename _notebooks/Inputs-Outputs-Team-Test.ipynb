{
 "cells": [
  {
   "cell_type": "code",
   "execution_count": null,
   "metadata": {},
   "outputs": [],
   "source": []
  },
  {
   "cell_type": "code",
   "execution_count": 1,
   "metadata": {},
   "outputs": [
    {
     "name": "stdout",
     "output_type": "stream",
     "text": [
      "First Name: Abdullah\n",
      "Last Name: Khanani\n",
      "Age: 15\n",
      "City: Los Angeles\n",
      "Updated City: San Diego\n",
      "Country: USA\n",
      "Country not found.\n"
     ]
    }
   ],
   "source": [
    "# This is program with dictionary\n",
    "# Create a dictionary to store information about a person\n",
    "person = {\n",
    "    \"first_name\": \"Abdullah\",\n",
    "    \"last_name\": \"Khanani\",\n",
    "    \"age\": 15,\n",
    "    \"city\": \"Los Angeles\"\n",
    "}\n",
    "# Accessing values in the dictionary\n",
    "print(\"First Name:\", person[\"first_name\"])\n",
    "print(\"Last Name:\", person[\"last_name\"])\n",
    "print(\"Age:\", person[\"age\"])\n",
    "print(\"City:\", person[\"city\"])\n",
    "# Modifying values in the dictionary\n",
    "person[\"city\"] = \"San Diego\"  # Update the city\n",
    "# Adding a new key-value pair to the dictionary\n",
    "person[\"country\"] = \"USA\"\n",
    "# Accessing the updated values\n",
    "print(\"Updated City:\", person[\"city\"])\n",
    "print(\"Country:\", person[\"country\"])\n",
    "# Deleting a key-value pair from the dictionary\n",
    "del person[\"country\"]\n",
    "# Checking if a key exists in the dictionary\n",
    "if \"country\" in person:\n",
    "    print(\"Country:\", person[\"country\"])  # This will not be executed because \"country\" was deleted\n",
    "else:\n",
    "    print(\"Country not found.\")"
   ]
  },
  {
   "cell_type": "code",
   "execution_count": 2,
   "metadata": {},
   "outputs": [
    {
     "name": "stdout",
     "output_type": "stream",
     "text": [
      "The area of the rectangle with length 5.0 and width 2.0 is 10.0 square units.\n"
     ]
    }
   ],
   "source": [
    "# This is program with Output\n",
    "# Input: Length and width of the rectangle\n",
    "length = float(input(\"Enter the length of the rectangle: \"))\n",
    "width = float(input(\"Enter the width of the rectangle: \"))\n",
    "# Calculate the area of the rectangle\n",
    "area = length * width\n",
    "# Output the result\n",
    "print(f\"The area of the rectangle with length {length} and width {width} is {area} square units.\")"
   ]
  },
  {
   "cell_type": "code",
   "execution_count": 3,
   "metadata": {},
   "outputs": [
    {
     "name": "stdout",
     "output_type": "stream",
     "text": [
      "Hello, Lincoln! Welcome to the interactive program.\n",
      "You are a minor.\n"
     ]
    }
   ],
   "source": [
    "# Program with Input and Output\n",
    "# Get user input\n",
    "user_name = input(\"Enter your name: \")\n",
    "# Display a greeting\n",
    "print(\"Hello, \" + user_name + \"! Welcome to the interactive program.\")\n",
    "# Get a number from the user\n",
    "user_age = input(\"Enter your age: \")\n",
    "# Convert the input to an integer\n",
    "try:\n",
    "    user_age = int(user_age)\n",
    "except ValueError:\n",
    "    print(\"Invalid age input. Please enter a valid number.\")\n",
    "else:\n",
    "    # Perform some logic based on the age\n",
    "    if user_age < 18:\n",
    "        print(\"You are a minor.\")\n",
    "    elif user_age >= 18 and user_age < 65:\n",
    "        print(\"You are an adult.\")\n",
    "    else:\n",
    "        print(\"You are a senior citizen.\")"
   ]
  },
  {
   "cell_type": "code",
   "execution_count": 4,
   "metadata": {},
   "outputs": [
    {
     "name": "stdout",
     "output_type": "stream",
     "text": [
      "List of numbers: [1.0, 2.0, 3.0, 4.0, 5.0, 6.0, 7.0, 8.0, 9.0, 10.0]\n",
      "Sum of numbers: 55.0\n",
      "Average of numbers: 5.5\n",
      "Maximum value: 10.0\n",
      "Minimum value: 1.0\n"
     ]
    }
   ],
   "source": [
    "# Program with List\n",
    "# Create an empty list\n",
    "numbers = []\n",
    "# Get the number of elements in the list from the user\n",
    "num_elements = int(input(\"Enter the number of elements in the list: \"))\n",
    "# Get the elements from the user and add them to the list\n",
    "for i in range(num_elements):\n",
    "    element = float(input(f\"Enter Number {i + 1}: \"))\n",
    "    numbers.append(element)\n",
    "# Display the list\n",
    "print(\"List of numbers:\", numbers)\n",
    "# Calculate and display the sum of the numbers\n",
    "total = sum(numbers)\n",
    "print(\"Sum of numbers:\", total)\n",
    "# Calculate and display the average of the numbers\n",
    "average = total / len(numbers)\n",
    "print(\"Average of numbers:\", average)\n",
    "# Find and display the maximum and minimum values in the list\n",
    "maximum = max(numbers)\n",
    "minimum = min(numbers)\n",
    "print(\"Maximum value:\", maximum)\n",
    "print(\"Minimum value:\", minimum)"
   ]
  },
  {
   "cell_type": "code",
   "execution_count": 5,
   "metadata": {},
   "outputs": [
    {
     "name": "stdout",
     "output_type": "stream",
     "text": [
      "2! = 2\n"
     ]
    }
   ],
   "source": [
    "# Program with Iteration\n",
    "# Get user input for the number\n",
    "n = int(input(\"Enter a number: \"))\n",
    "# Initialize variables\n",
    "factorial = 1\n",
    "i = 1\n",
    "# Calculate factorial using a while loop\n",
    "while i <= n:\n",
    "    factorial *= i\n",
    "    i += 1\n",
    "# Display the result\n",
    "print(f\"{n}! = {factorial}\")"
   ]
  },
  {
   "cell_type": "code",
   "execution_count": 6,
   "metadata": {},
   "outputs": [
    {
     "name": "stdout",
     "output_type": "stream",
     "text": [
      "Data: [15, 45, 69, 88, 25, 57, 73, 31, 99]\n",
      "Mean: 55.77777777777778\n",
      "Median: 57\n",
      "Standard Deviation: 28.981795052143415\n"
     ]
    }
   ],
   "source": [
    "# Program with a Function to perform mathematical and/or a statistical calculations\n",
    "import statistics\n",
    "def calculate_statistics(numbers):\n",
    "    # Calculate mean\n",
    "    mean = sum(numbers) / len(numbers)\n",
    "    # Calculate median\n",
    "    median = statistics.median(numbers)\n",
    "    # Calculate standard deviation\n",
    "    std_deviation = statistics.stdev(numbers)\n",
    "    return mean, median, std_deviation\n",
    "# Example list of numbers\n",
    "data = [15, 45, 69, 88, 25, 57, 73, 31, 99]\n",
    "# Calculate statistics using the function\n",
    "mean, median, std_deviation = calculate_statistics(data)\n",
    "# Display the results\n",
    "print(\"Data:\", data)\n",
    "print(\"Mean:\", mean)\n",
    "print(\"Median:\", median)\n",
    "print(\"Standard Deviation:\", std_deviation)"
   ]
  },
  {
   "cell_type": "code",
   "execution_count": 7,
   "metadata": {},
   "outputs": [
    {
     "name": "stdout",
     "output_type": "stream",
     "text": [
      "3 is an odd number.\n"
     ]
    }
   ],
   "source": [
    "# Program with a selection/condition\n",
    "# Get user input for a number\n",
    "number = int(input(\"Enter a number: \"))\n",
    "# Check if the number is even or odd\n",
    "if number % 2 == 0:\n",
    "    print(f\"{number} is an even number.\")\n",
    "else:\n",
    "    print(f\"{number} is an odd number.\")"
   ]
  },
  {
   "cell_type": "code",
   "execution_count": 8,
   "metadata": {},
   "outputs": [
    {
     "name": "stdout",
     "output_type": "stream",
     "text": [
      "The square of 5.0 is 25.0.\n"
     ]
    }
   ],
   "source": [
    "# Finish with a Program with Purpose\n",
    "# Define a function to calculate the square of a number\n",
    "def calculate_square(number):\n",
    "    square = number ** 2\n",
    "    return square\n",
    "# Get user input for a number\n",
    "try:\n",
    "    number = float(input(\"Enter a number: \"))\n",
    "except ValueError:\n",
    "    print(\"Invalid input. Please enter a valid number.\")\n",
    "else:\n",
    "    # Calculate the square using the function\n",
    "    result = calculate_square(number)\n",
    "    # Display the result\n",
    "    print(f\"The square of {number} is {result}.\")"
   ]
  }
 ],
 "metadata": {
  "kernelspec": {
   "display_name": "Python 3",
   "language": "python",
   "name": "python3"
  },
  "language_info": {
   "codemirror_mode": {
    "name": "ipython",
    "version": 3
   },
   "file_extension": ".py",
   "mimetype": "text/x-python",
   "name": "python",
   "nbconvert_exporter": "python",
   "pygments_lexer": "ipython3",
   "version": "3.10.12"
  },
  "orig_nbformat": 4
 },
 "nbformat": 4,
 "nbformat_minor": 2
}
