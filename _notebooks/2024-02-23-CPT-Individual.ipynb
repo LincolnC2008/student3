{
 "cells": [
  {
   "cell_type": "markdown",
   "metadata": {},
   "source": [
    "---\n",
    "toc: true\n",
    "comments: true\n",
    "layout: post\n",
    "title: CPT Final Individual\n",
    "description: idk\n",
    "courses: {'compsci': {'week': 20}}\n",
    "type: hacks\n",
    "---"
   ]
  },
  {
   "cell_type": "markdown",
   "metadata": {},
   "source": [
    "# College Board Requirements:\n",
    "□ Instructions for input from one of the following:\n",
    "\n",
    "◆ the user (including user actions that trigger events)\n",
    "\n",
    "◆ a device\n",
    "\n",
    "◆ an online data stream\n",
    "\n",
    "◆ a file\n",
    "\n",
    "\n",
    "□ Use of at least one list (or other collection type) to represent a collection of\n",
    "data that is stored and used to manage program complexity and help fulfill\n",
    "the program’s purpose\n",
    "\n",
    "\n",
    "□ At least one procedure that contributes to the program’s intended purpose,\n",
    "where you have defined:\n",
    "\n",
    "◆ the procedure’s name\n",
    "\n",
    "◆ the return type (if necessary)\n",
    "\n",
    "◆ one or more parameters\n",
    "\n",
    "□ An algorithm that includes sequencing, selection, and iteration that is in the\n",
    "body of the selected procedure\n",
    "\n",
    "\n",
    "□ Calls to your student-developed procedure\n",
    "\n",
    "\n",
    "□ Instructions for output (tactile, audible, visual, or textual) based on input and\n",
    "program functionality"
   ]
  },
  {
   "cell_type": "markdown",
   "metadata": {},
   "source": [
    "# Instructions for Input:\n",
    "In my Clash Royale Player Quiz, user input is obtained through radio buttons within the quiz section. Each question presents multiple choices as radio inputs, allowing users to select their answer. Here's a representation of how this works in my code, specifically within the nextQuestion function:"
   ]
  },
  {
   "cell_type": "code",
   "execution_count": null,
   "metadata": {
    "vscode": {
     "languageId": "javascript"
    }
   },
   "outputs": [],
   "source": [
    "function nextQuestion() {\n",
    "    if (currentQuestion < questions.length) {\n",
    "        document.getElementById('quiz').innerHTML = createQuestionElement(currentQuestion);\n",
    "        document.getElementById('nextBtn').textContent = currentQuestion === questions.length - 1 ? 'Finish' : 'Next Question';\n",
    "    } else {\n",
    "        showResults();\n",
    "    }\n",
    "    currentQuestion++;\n",
    "}"
   ]
  },
  {
   "cell_type": "markdown",
   "metadata": {},
   "source": [
    "And within createQuestionElement, radio buttons are created for each answer:"
   ]
  },
  {
   "cell_type": "code",
   "execution_count": null,
   "metadata": {
    "vscode": {
     "languageId": "javascript"
    }
   },
   "outputs": [],
   "source": [
    "function createQuestionElement(index) {\n",
    "    var question = questions[index];\n",
    "    var qElement = '<div class=\"question\">' + '<p>' + question.question + '</p>';\n",
    "    for (var key in question.answers) {\n",
    "        qElement += '<label><input type=\"radio\" name=\"question' + index + '\" value=\"' + key + '\" onclick=\"selectAnswer(\\'' + key + '\\')\">' + question.answers[key] + '</label>';\n",
    "    }\n",
    "    return qElement + '</div>';\n",
    "}"
   ]
  },
  {
   "cell_type": "markdown",
   "metadata": {},
   "source": [
    "# Use of at Least One List (or Other Collection Type):\n",
    "The code utilizes arrays for managing collections of data. The questions array stores quiz questions and their possible answers."
   ]
  },
  {
   "cell_type": "code",
   "execution_count": null,
   "metadata": {
    "vscode": {
     "languageId": "javascript"
    }
   },
   "outputs": [],
   "source": [
    "var questions = [\n",
    "    { question: \"Choose your favorite card type:\", answers: { a: \"Offensive (e.g., Hog Rider, Balloon)\", b: \"Defensive (e.g., Tesla, Tornado)\", c: \"Support (e.g., Musketeer, Wizard)\", d: \"Tank (e.g., Golem, Giant)\" }},\n",
    "    { question: \"What's your preferred strategy?\", answers: { a: \"Fast-paced attacks\", b: \"Control and counter\", c: \"Building up a big push\", d: \"Surprise elements and versatility\" }},\n",
    "    { question: \"How do you react to an enemy push?\", answers: { a: \"Counter-attack on the other lane\", b: \"Defend solidly and counter-push\", c: \"Absorb some damage and build a counter-push\", d: \"Use cycle cards to defend and quickly reset\" }},\n",
    "    { question: \"Pick a card you consider essential in any deck:\", answers: { a: \"Fireball\", b: \"Zap\", c: \"Skeleton Army\", d: \"Elixir Collector\" }},\n",
    "    { question: \"What is your reaction to seeing a big tank like Golem?\", answers: { a: \"Rush the other lane\", b: \"Build a big defense\", c: \"Ignore and push the opposite lane\", d: \"Try to distract and chip away\" }},\n",
    "    { question: \"Your favorite time to attack is:\", answers: { a: \"Immediately after defending\", b: \"When I have an elixir advantage\", c: \"Double elixir time\", d: \"When my opponent makes a mistake\" }},\n",
    "    { question: \"Which of these spells do you prefer?\", answers: { a: \"Lightning\", b: \"Poison\", c: \"Fireball\", d: \"Rocket\" }},\n",
    "    { question: \"What role do you prefer your cards to have?\", answers: { a: \"Versatility\", b: \"Specific counter\", c: \"High damage output\", d: \"Tankiness\" }},\n",
    "    { question: \"How do you prefer to win matches?\", answers: { a: \"One big push\", b: \"Consistent pressure\", c: \"Defensive play and counter-attacks\", d: \"Spell cycle\" }},\n",
    "    { question: \"What's your stance on elixir management?\", answers: { a: \"Aggressive spending for pressure\", b: \"Balanced - spend wisely\", c: \"Save for big pushes\", d: \"Spend as needed but focus on counters\" }}\n",
    "];"
   ]
  },
  {
   "cell_type": "markdown",
   "metadata": {},
   "source": [
    "Additionally, the allCards array represents a collection of Clash Royale cards, each with attributes relevant to the quiz's purpose, such as type, strategy, and elixir cost."
   ]
  },
  {
   "cell_type": "code",
   "execution_count": null,
   "metadata": {
    "vscode": {
     "languageId": "javascript"
    }
   },
   "outputs": [],
   "source": [
    "var allCards = [\n",
    "    { name: \"Hog Rider\", type: \"Offensive\", strategy: \"Fast-paced attacks\", elixirCost: 4 },\n",
    "    { name: \"Tesla\", type: \"Defensive\", strategy: \"Control and counter\", elixirCost: 4 },\n",
    "    { name: \"Musketeer\", type: \"Support\", strategy: \"Control and counter\", elixirCost: 4 },\n",
    "    { name: \"Golem\", type: \"Tank\", strategy: \"Building up a big push\", elixirCost: 8 },\n",
    "    { name: \"Balloon\", type: \"Offensive\", strategy: \"Fast-paced attacks\", elixirCost: 5 },\n",
    "    { name: \"Tornado\", type: \"Defensive\", strategy: \"Control and counter\", elixirCost: 3 },\n",
    "    { name: \"Wizard\", type: \"Support\", strategy: \"Building up a big push\", elixirCost: 5 },\n",
    "    { name: \"Giant\", type: \"Tank\", strategy: \"Building up a big push\", elixirCost: 5 },\n",
    "    { name: \"Zap\", type: \"Support\", strategy: \"Fast-paced attacks\", elixirCost: 2 },\n",
    "    { name: \"Fireball\", type: \"Support\", strategy: \"Control and counter\", elixirCost: 4 },\n",
    "    { name: \"Ice Spirit\", type: \"Defensive\", strategy: \"Fast-paced attacks\", elixirCost: 1 },\n",
    "    { name: \"Miner\", type: \"Offensive\", strategy: \"Surprise elements and versatility\", elixirCost: 3 },\n",
    "    { name: \"Skeleton Army\", type: \"Defensive\", strategy: \"Control and counter\", elixirCost: 3 },\n",
    "    { name: \"Elixir Collector\", type: \"Support\", strategy: \"Building up a big push\", elixirCost: 6 },\n",
    "    { name: \"Lumberjack\", type: \"Offensive\", strategy: \"Fast-paced attacks\", elixirCost: 4 },\n",
    "    { name: \"Baby Dragon\", type: \"Support\", strategy: \"Building up a big push\", elixirCost: 4 },\n",
    "    { name: \"Night Witch\", type: \"Offensive\", strategy: \"Building up a big push\", elixirCost: 4 },\n",
    "    { name: \"Royal Giant\", type: \"Tank\", strategy: \"Surprise elements and versatility\", elixirCost: 6 },\n",
    "    { name: \"Electro Wizard\", type: \"Support\", strategy: \"Control and counter\", elixirCost: 4 },\n",
    "    { name: \"Mega Minion\", type: \"Defensive\", strategy: \"Control and counter\", elixirCost: 3 },\n",
    "    { name: \"Poison\", type: \"Support\", strategy: \"Surprise elements and versatility\", elixirCost: 4 },\n",
    "    { name: \"Dark Prince\", type: \"Offensive\", strategy: \"Fast-paced attacks\", elixirCost: 4 },\n",
    "    { name: \"Bowler\", type: \"Defensive\", strategy: \"Control and counter\", elixirCost: 5 },\n",
    "];"
   ]
  },
  {
   "cell_type": "markdown",
   "metadata": {},
   "source": [
    "# At Least One Procedure That Contributes to the Program's Intended Purpose: \n",
    "The generateCustomDeckRecommendation function shows a custom procedure with parameters. This function processes user preferences and from that, it then generates a Clash Royale deck recommendation based on the users answers to the questions. It also filters and sorts the allCards array. "
   ]
  },
  {
   "cell_type": "code",
   "execution_count": null,
   "metadata": {
    "vscode": {
     "languageId": "javascript"
    }
   },
   "outputs": [],
   "source": [
    "function generateCustomDeckRecommendation(cardTypePreference, strategyPreference) {\n",
    "\n",
    "    var filteredCards = allCards.filter(card => card.type === cardTypePreference && card.strategy === strategyPreference);\n",
    "    var recommendedDeck = filteredCards.sort((a, b) => a.elixirCost - b.elixirCost).slice(0, 8);\n",
    "    var deckMessage = \"Recommended Deck based on your preferences: \" + recommendedDeck.map(card => card.name).join(\", \");\n",
    "    return deckMessage;\n",
    "}"
   ]
  },
  {
   "cell_type": "markdown",
   "metadata": {},
   "source": [
    "# Algorithm Involving Sequencing, Selection, and Iteration:\n",
    "Within the generateCustomDeckRecommendation function shown above, an algorithm filters the allCards list based on the users answer to this \"quiz\", iterates over the filtered results to sort them by elixir cost, and then selects a subset to recommend to the user."
   ]
  },
  {
   "cell_type": "markdown",
   "metadata": {},
   "source": [
    "# Calls to the Student-Developed Procedure:\n",
    "This code shown below sets the user's \"Strategy Preferences\" and their \"Card type preferences\". Then calls the generateCustomDeckRecommendation to generate a deck recomendation. The recommendation is also logged to the console."
   ]
  },
  {
   "cell_type": "code",
   "execution_count": null,
   "metadata": {
    "vscode": {
     "languageId": "javascript"
    }
   },
   "outputs": [],
   "source": [
    "var userCardTypePreference = \"Offensive\";\n",
    "var userStrategyPreference = \"Fast-paced attacks\";\n",
    "\n",
    "var customDeckRecommendation = generateCustomDeckRecommendation(userCardTypePreference, userStrategyPreference);\n",
    "console.log(customDeckRecommendation);"
   ]
  },
  {
   "cell_type": "markdown",
   "metadata": {},
   "source": [
    "# Instructions for output (tactile, audible, visual, or textual) based on input and program functionality:\n",
    "After the user completes the quiz, the showResults function shown below updates the website and then displays the deck as well as its average elixir cost."
   ]
  },
  {
   "cell_type": "code",
   "execution_count": null,
   "metadata": {
    "vscode": {
     "languageId": "javascript"
    }
   },
   "outputs": [],
   "source": [
    "function showResults() {\n",
    "    var deckSuggestion = calculateDeckSuggestion();\n",
    "    document.getElementById('quiz').style.display = 'none';\n",
    "    document.getElementById('nextBtn').style.display = 'none';\n",
    "    var deckListHtml = '<h3>Your Ideal Deck:</h3><div id=\"deckImages\">';\n",
    "    var totalElixirCost = 0;\n",
    "    var deckListText = deckSuggestion.split(': ')[1].split(', ');\n",
    "    deckListText.forEach(function(cardName) {\n",
    "        deckListHtml += `<div><img src=\"${cardImages[cardName.trim()]}\" alt=\"${cardName}\" class=\"card-image\">${cardName}</div>`;\n",
    "        totalElixirCost += elixirCosts[cardName.trim()];\n",
    "    });\n",
    "    var averageElixirCost = (totalElixirCost / deckListText.length).toFixed(2);\n",
    "    document.getElementById('result').innerHTML = deckListHtml;\n",
    "    var avgElixirCostElement = document.getElementById('averageElixirCost');\n",
    "    if (!avgElixirCostElement) {\n",
    "        avgElixirCostElement = document.createElement('p');\n",
    "        avgElixirCostElement.id = 'averageElixirCost';\n",
    "        document.getElementById('result').appendChild(avgElixirCostElement);\n",
    "    }\n",
    "    avgElixirCostElement.textContent = 'Average Elixir Cost: ' + averageElixirCost;\n",
    "    document.getElementById('result').style.display = 'block';\n",
    "    showViableOptions(deckSuggestion);\n",
    "}"
   ]
  },
  {
   "cell_type": "markdown",
   "metadata": {},
   "source": [
    "# CPT Video Requirements for College Board:\n",
    "□ Input to your program\n",
    "\n",
    "□ At least one aspect of the functionality of your program\n",
    "\n",
    "□ Output produced by your program\n",
    "\n",
    "Your video may NOT contain:\n",
    "\n",
    "□ Any distinguishing information about yourself\n",
    "\n",
    "□ Voice narration (though text captions are encouraged)\n",
    "\n",
    "Your video must be:\n",
    "\n",
    "□ Either .webm, .mp4, .wmv, .avi, or .mov format\n",
    "\n",
    "□ No more than 1 minute in length\n",
    "\n",
    "□ No more than 30MB in file size"
   ]
  },
  {
   "cell_type": "markdown",
   "metadata": {},
   "source": [
    "[CPT Video](https://drive.google.com/file/d/1SaBgqz5fyWlG7q_PU_krF-ZKZXVCHkWe/view?usp=sharing)"
   ]
  }
 ],
 "metadata": {
  "language_info": {
   "name": "python"
  }
 },
 "nbformat": 4,
 "nbformat_minor": 2
}
