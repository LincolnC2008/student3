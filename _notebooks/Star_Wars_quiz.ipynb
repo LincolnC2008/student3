{
 "cells": [
  {
   "cell_type": "markdown",
   "metadata": {},
   "source": [
    "---\n",
    "toc: True\n",
    "comments: False\n",
    "layout: post\n",
    "title: IPYNB Star Wars quiz\n",
    "description: code for a Star Wars quiz\n",
    "type: hacks\n",
    "courses: {'compsci': {'week': 2}}\n",
    "---\n"
   ]
  },
  {
   "cell_type": "code",
   "execution_count": 1,
   "metadata": {},
   "outputs": [
    {
     "name": "stdout",
     "output_type": "stream",
     "text": [
      "Hello There!\n",
      "hi\n",
      "Question: What is the best movie?\n",
      "Answer: Empire strikes back\n",
      "Question: What is the best trilogy?\n",
      "Answer: Empire strikes back\n",
      "Question: Who is the best Star Wars Character?\n",
      "Answer: Obi wan\n",
      "Hello, lincolnc2008 running /bin/python\n",
      "You will be asked 3 questions.\n",
      "Question: Are you ready to take a test?\n",
      "Answer: \n",
      "Question: Who kills General Greivous?\n",
      "Obi wan is incorrect!\n",
      "Question: What is the first movie in the prequel trilogy called?\n",
      "The Phantom Menace is incorrect!\n",
      "Question: What is the best Star Wars show?\n",
      "The mandalorian is incorrect!\n",
      "lincolnc2008 you scored 0/3\n"
     ]
    }
   ],
   "source": [
    "print(\"Hello There!\")\n",
    "msg = input(\"Enter a greeting: \")\n",
    "print(msg)\n",
    "def question_and_answer(prompt):\n",
    "    print(\"Question: \" + prompt)\n",
    "    msg = input()\n",
    "    print(\"Answer: \" + msg)\n",
    "\n",
    "question_and_answer(\"What is the best movie?\")\n",
    "question_and_answer(\"What is the best trilogy?\")\n",
    "question_and_answer(\"Who is the best Star Wars Character?\")\n",
    "import getpass, sys\n",
    "\n",
    "def question_with_response(prompt):\n",
    "    print(\"Question: \" + prompt)\n",
    "    msg = input()\n",
    "    return msg\n",
    "\n",
    "questions = 3\n",
    "correct = 0\n",
    "\n",
    "print('Hello, ' + getpass.getuser() + \" running \" + sys.executable)\n",
    "print(\"You will be asked \" + str(questions) + \" questions.\")\n",
    "question_and_answer(\"Are you ready to take a test?\")\n",
    "\n",
    "rsp = question_with_response(\"Who kills General Greivous?\")\n",
    "if rsp == \"obi wan\":\n",
    "    print(rsp + \" is correct!\")\n",
    "    correct += 1\n",
    "else:\n",
    "    print(rsp + \" is incorrect!\")\n",
    "\n",
    "rsp = question_with_response(\"What is the first movie in the prequel trilogy called?\")\n",
    "if rsp == \"the phantom menace\":\n",
    "    print(rsp + \" is correct!\")\n",
    "    correct += 1\n",
    "else:\n",
    "    print(rsp + \" is incorrect!\")\n",
    "\n",
    "rsp = question_with_response(\"What is the best Star Wars show?\")\n",
    "if rsp == \"the mandalorian\":\n",
    "    print(rsp + \" is correct!\")\n",
    "    correct += 1\n",
    "else:\n",
    "    print(rsp + \" is incorrect!\")\n",
    "\n",
    "print(getpass.getuser() + \" you scored \" + str(correct) +\"/\" + str(questions))"
   ]
  }
 ],
 "metadata": {
  "kernelspec": {
   "display_name": "Python 3",
   "language": "python",
   "name": "python3"
  },
  "language_info": {
   "codemirror_mode": {
    "name": "ipython",
    "version": 3
   },
   "file_extension": ".py",
   "mimetype": "text/x-python",
   "name": "python",
   "nbconvert_exporter": "python",
   "pygments_lexer": "ipython3",
   "version": "3.10.12"
  },
  "orig_nbformat": 4
 },
 "nbformat": 4,
 "nbformat_minor": 2
}
