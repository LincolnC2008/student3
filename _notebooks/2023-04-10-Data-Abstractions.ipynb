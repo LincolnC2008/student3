{
 "cells": [
  {
   "cell_type": "markdown",
   "metadata": {},
   "source": [
    "---\n",
    "toc: false\n",
    "comments: true\n",
    "layout: post\n",
    "title: Data Abstractions\n",
    "description: Data Abstractions\n",
    "type: hacks\n",
    "courses: { compsci: {week: 7} }\n",
    "---"
   ]
  },
  {
   "cell_type": "code",
   "execution_count": 1,
   "metadata": {},
   "outputs": [
    {
     "name": "stdout",
     "output_type": "stream",
     "text": [
      "Lincoln Crowell\n",
      "15\n"
     ]
    }
   ],
   "source": [
    "#Popcorn Hack 1\n",
    "\n",
    "name = \"Lincoln Crowell\"\n",
    "\n",
    "print(name)\n",
    "\n",
    "age = \"15\"\n",
    "\n",
    "print(age)"
   ]
  },
  {
   "cell_type": "code",
   "execution_count": 2,
   "metadata": {},
   "outputs": [
    {
     "name": "stdout",
     "output_type": "stream",
     "text": [
      "Star Wars\n",
      "9\n"
     ]
    }
   ],
   "source": [
    "#Popcorn Hack 2\n",
    "\n",
    "movie = \"Star Wars\"\n",
    "print(movie)\n",
    "\n",
    "number_of_movies = \"9\"\n",
    "print(number_of_movies)"
   ]
  },
  {
   "cell_type": "code",
   "execution_count": 3,
   "metadata": {},
   "outputs": [
    {
     "name": "stdout",
     "output_type": "stream",
     "text": [
      "300 300\n"
     ]
    }
   ],
   "source": [
    "#Popcorn Hack 3\n",
    "\n",
    "num1 = 100\n",
    "num2 = 200\n",
    "num3 = 300\n",
    "num1 = num3\n",
    "num2 = num1\n",
    "num3 = num2\n",
    "print(str(num1)+\" \"+str(num3))"
   ]
  },
  {
   "cell_type": "code",
   "execution_count": 4,
   "metadata": {},
   "outputs": [
    {
     "name": "stdout",
     "output_type": "stream",
     "text": [
      "ABCDEFGHIJKLMNOPQRSTUVWXYZ\n"
     ]
    }
   ],
   "source": [
    "#Popcorn Hack 3\n",
    "\n",
    "information = \"ABCDEFGHIJKLMNOPQRSTUVWXYZ\"\n",
    "\n",
    "list = information\n",
    "print(list)"
   ]
  },
  {
   "cell_type": "code",
   "execution_count": 6,
   "metadata": {},
   "outputs": [],
   "source": [
    "#Popcorn Hack 4\n",
    "def __init__(self, name, age):\n",
    "    self.name = name\n",
    "    self.age = age\n"
   ]
  },
  {
   "cell_type": "code",
   "execution_count": 8,
   "metadata": {},
   "outputs": [
    {
     "name": "stdout",
     "output_type": "stream",
     "text": [
      "{'Name: ': 'Lincoln', 'Age: ': '15', 'Favorite_Game: ': 'COD'}\n"
     ]
    }
   ],
   "source": [
    "#Popcorn Hack 5\n",
    "\n",
    "dictionary = {\n",
    "    \"Name: \": \"Lincoln\",\n",
    "    \"Age: \": \"15\",\n",
    "    \"Favorite_Game: \": \"COD\",\n",
    "}\n",
    "\n",
    "print(dictionary)"
   ]
  },
  {
   "cell_type": "code",
   "execution_count": 17,
   "metadata": {},
   "outputs": [
    {
     "name": "stdout",
     "output_type": "stream",
     "text": [
      "Name: Ronit, Age: 15\n",
      "Name: Lincoln, Age: 15\n",
      "Name: Ishan, Age: 15\n"
     ]
    }
   ],
   "source": [
    "#Homework Part 1\n",
    "class Person:\n",
    "    def __init__(self, name, age):\n",
    "        self.name = name\n",
    "        self.age = age\n",
    "\n",
    "def print_people(people):\n",
    "    for person in people:\n",
    "        print(f\"Name: {person.name}, Age: {person.age}\")\n",
    "\n",
    "person1 = Person(\"Ronit\", 15)\n",
    "person2 = Person(\"Lincoln\", 15)\n",
    "person3 = Person(\"Ishan\", 15)\n",
    "\n",
    "people_list = [person1, person2, person3]\n",
    "\n",
    "\n",
    "print_people(people_list)"
   ]
  },
  {
   "cell_type": "code",
   "execution_count": 1,
   "metadata": {},
   "outputs": [
    {
     "name": "stdout",
     "output_type": "stream",
     "text": [
      "The oldest person is Mom with an age of 48.\n"
     ]
    }
   ],
   "source": [
    "#Homework Part 2\n",
    "def find_oldest_person(people):\n",
    "    oldest_name = None\n",
    "    max_age = -1\n",
    "    \n",
    "    for name, age in people.items():\n",
    "        if age > max_age:\n",
    "            max_age = age\n",
    "            oldest_name = name\n",
    "    \n",
    "    if oldest_name is not None:\n",
    "        print(f\"The oldest person is {oldest_name} with an age of {max_age}.\")\n",
    "    else:\n",
    "        print(\"The provided dictionary is empty.\")\n",
    "\n",
    "family_dict = {\n",
    "    \"Mom\": 48,\n",
    "    \"Dad\": 44,\n",
    "    \"Lincoln\": 15\n",
    "}\n",
    "\n",
    "find_oldest_person(family_dict)\n"
   ]
  },
  {
   "cell_type": "code",
   "execution_count": 16,
   "metadata": {},
   "outputs": [
    {
     "name": "stdout",
     "output_type": "stream",
     "text": [
      "Loaded Library:\n",
      "Movie ID: movie1\n",
      "Title: Revenge of the sith\n",
      "Rating: 9/10\n",
      "best characters: Anakin Skywalker and Obi Wan\n",
      "\n",
      "Movie ID: movie2\n",
      "Title: Empire Strikes Back\n",
      "Rating: 9/10\n",
      "best characters: Darth Vader and Luke Skywalker\n",
      "\n"
     ]
    }
   ],
   "source": [
    "#Hack 2\n",
    "import json\n",
    "\n",
    "movie_theater = {}\n",
    "\n",
    "movie1 = {\n",
    "    \"title\": \"Revenge of the sith\",\n",
    "    \"rating\": \"9/10\",\n",
    "    \"best characters\": [\"Anakin Skywalker\"+\" \"+\"and Obi Wan\"]\n",
    "}\n",
    "\n",
    "movie2 = {\n",
    "    \"title\": \"Empire Strikes Back\",\n",
    "    \"rating\": \"9/10\",\n",
    "    \"best characters\": [\"Darth Vader\"+\" \"+\"and Luke Skywalker\"]\n",
    "}\n",
    "\n",
    "movie_theater[\"movie1\"] = movie1\n",
    "movie_theater[\"movie2\"] = movie2\n",
    "\n",
    "\n",
    "with open('library.json', 'w') as file:\n",
    "    json.dump(movie_theater, file)\n",
    "\n",
    "\n",
    "with open('library.json', 'r') as file:\n",
    "    loaded_library = json.load(file)\n",
    "\n",
    "\n",
    "print(\"Loaded Library:\")\n",
    "for book_id, book_info in loaded_library.items():\n",
    "    print(f\"Movie ID: {book_id}\")\n",
    "    print(f\"Title: {book_info['title']}\")\n",
    "    print(f\"Rating: {book_info['rating']}\")\n",
    "    print(f\"best characters: {', '.join(book_info['best characters'])}\\n\")"
   ]
  }
 ],
 "metadata": {
  "kernelspec": {
   "display_name": "Python 3",
   "language": "python",
   "name": "python3"
  },
  "language_info": {
   "codemirror_mode": {
    "name": "ipython",
    "version": 3
   },
   "file_extension": ".py",
   "mimetype": "text/x-python",
   "name": "python",
   "nbconvert_exporter": "python",
   "pygments_lexer": "ipython3",
   "version": "3.10.12"
  },
  "orig_nbformat": 4
 },
 "nbformat": 4,
 "nbformat_minor": 2
}
