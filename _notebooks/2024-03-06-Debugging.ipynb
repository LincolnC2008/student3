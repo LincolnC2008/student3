{
 "cells": [
  {
   "cell_type": "markdown",
   "metadata": {},
   "source": [
    "---\n",
    "toc: true\n",
    "comments: true\n",
    "layout: post\n",
    "title: Debugging\n",
    "description: false\n",
    "courses: {'compsci': {'week': 25}}\n",
    "type: hacks\n",
    "---"
   ]
  },
  {
   "cell_type": "markdown",
   "metadata": {},
   "source": [
    "1. Start backend using Debugging\n",
    "\n",
    "![](images/Screenshot(137).png)\n",
    "\n",
    "2. Set break point at the beginning of endpoint code\n",
    "\n",
    "![](images/Screenshot(138).png)\n",
    "\n",
    "3. Start in frontend with split screen loading source for an API fetch using GET.\n",
    "\n",
    "![](images/Screenshot(140).png)\n",
    "\n",
    "4. Set break point on fetch, inside .then, inside .fetch\n",
    "\n",
    "![](images/Screenshot(141).png)\n",
    "\n",
    "5. Run frontend, screen capture break at fetch while examining Body\n",
    "\n",
    "![](images/Screenshot(142).png)\n",
    "\n",
    "6. Press play on frontend, observe stop inside of backend\n",
    "\n",
    "![](images/Screenshot(143).png)\n",
    "\n",
    "7. Press step over on backend until you have obtained data from database, screen capture Python Object\n",
    "\n",
    "![](images/Screenshot(144).png)\n",
    "\n",
    "8. Press play button to end backend debugging session.\n",
    "\n",
    "![](images/Screenshot(146).png)\n",
    "\n",
    "9. Return to frontend debug session\n",
    "\n",
    "![](images/9.png)\n",
    "\n",
    "10. Step in until you see data, screen capture capturing break point and Data.\n",
    "\n",
    "![](images/Screenshot(145).png)"
   ]
  }
 ],
 "metadata": {
  "kernelspec": {
   "display_name": "Python 3",
   "language": "python",
   "name": "python3"
  },
  "language_info": {
   "name": "python",
   "version": "2.7.0"
  }
 },
 "nbformat": 4,
 "nbformat_minor": 2
}
