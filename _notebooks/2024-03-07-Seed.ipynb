{
 "cells": [
  {
   "cell_type": "markdown",
   "metadata": {},
   "source": [
    "---\n",
    "toc: true\n",
    "comments: true\n",
    "layout: post\n",
    "title: Seed\n",
    "description: false\n",
    "courses: {'compsci': {'week': 25}}\n",
    "type: hacks\n",
    "---"
   ]
  },
  {
   "cell_type": "markdown",
   "metadata": {},
   "source": [
    "Individual Progress.  Individual maintains an at-a-glance.  AP preparation progress, Key commits, GitHub Analytics, etc.  Student uses their blog to start each individual review.  This should be used to support accomplishments.\n",
    "\n",
    "[Analytics](https://github.com/LincolnC2008)\n",
    "[Key Commit](https://github.com/Ashwinv93/GLADV2Frontend/commit/89c7c7064f7595241c971ef547719ad81e0d4d6e)\n",
    "\n",
    "GitHub Pages Blog.  Student makes quality effort to record histories and solicit utterances/issue comments on AP and Project work.\n",
    "\n",
    "[My Utterances on other projects](https://tuckergol.github.io/student2/2024/02/15/Final_Reflection_Tri2_IPYNB_2_.html)\n",
    "\n",
    "AP work.  All AP work is understood, reviewed, and is determined by Teacher to be your own work.  Student should be proactive in demonstrating understanding of CPT requirements and AP quiz elements.\n",
    "\n",
    "[Blog showing my understanding of CPT requirements](https://lincolnc2008.github.io/student3//2024/02/23/CPT-Individual_IPYNB_2_.html)"
   ]
  }
 ],
 "metadata": {
  "language_info": {
   "name": "python"
  }
 },
 "nbformat": 4,
 "nbformat_minor": 2
}
